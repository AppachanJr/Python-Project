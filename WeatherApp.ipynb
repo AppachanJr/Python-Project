{
  "nbformat": 4,
  "nbformat_minor": 0,
  "metadata": {
    "colab": {
      "provenance": []
    },
    "kernelspec": {
      "name": "python3",
      "display_name": "Python 3"
    },
    "language_info": {
      "name": "python"
    }
  },
  "cells": [
    {
      "cell_type": "code",
      "execution_count": 2,
      "metadata": {
        "colab": {
          "base_uri": "https://localhost:8080/"
        },
        "id": "kJvTNW8EUdb_",
        "outputId": "57b7750c-4f57-4256-bd69-f28b1fccc82d"
      },
      "outputs": [
        {
          "output_type": "stream",
          "name": "stdout",
          "text": [
            "Weather data from file:\n",
            "{'city': 'Mumbai', 'temperature': 305.14, 'conditions': 'haze'}\n",
            "{'city': 'Delhi', 'temperature': 310.2, 'conditions': 'haze'}\n",
            "{'city': 'Chennai', 'temperature': 306.06, 'conditions': 'scattered clouds'}\n",
            "{'city': 'Mumbai', 'temperature': 31.99000000000001, 'conditions': 'haze'}\n",
            "{'city': 'Delhi', 'temperature': 37.05000000000001, 'conditions': 'haze'}\n",
            "{'city': 'Chennai', 'temperature': 32.910000000000025, 'conditions': 'scattered clouds'}\n"
          ]
        }
      ],
      "source": [
        "import requests\n",
        "import json\n",
        "import threading\n",
        "\n",
        "class WeatherApp:\n",
        "    def __init__(self):\n",
        "        self.api_key = \"89df9e01aaf466ee40550f3f84852474\"\n",
        "        self.base_url = \"http://api.openweathermap.org/data/2.5/weather?\"\n",
        "\n",
        "    def get_weather(self, city):\n",
        "        try:\n",
        "            complete_url = f\"{self.base_url}q={city}&appid={self.api_key}\"\n",
        "            response = requests.get(complete_url)\n",
        "            data = response.json()\n",
        "            temperature_celsius = data[\"main\"][\"temp\"] - 273.15\n",
        "            weather_data = {\n",
        "                \"city\": city,\n",
        "                \"temperature\": temperature_celsius,\n",
        "                \"conditions\": data[\"weather\"][0][\"description\"]\n",
        "            }\n",
        "            return weather_data\n",
        "        except Exception as e:\n",
        "            print(\"An error occurred:\", e)\n",
        "            return None\n",
        "\n",
        "def save_to_file(weather_data):\n",
        "    with open(\"weather_data.txt\", \"a\") as file:\n",
        "        file.write(json.dumps(weather_data) + \"\\n\")\n",
        "\n",
        "def load_from_file():\n",
        "    try:\n",
        "        with open(\"weather_data.txt\", \"r\") as file:\n",
        "            for line in file:\n",
        "                yield json.loads(line.strip())\n",
        "    except FileNotFoundError:\n",
        "        print(\"No weather data found.\")\n",
        "\n",
        "def weather_generator(cities):\n",
        "    weather_app = WeatherApp()\n",
        "    for city in cities:\n",
        "        yield weather_app.get_weather(city)\n",
        "\n",
        "def retry_decorator(func):\n",
        "    def wrapper(*args, **kwargs):\n",
        "        for _ in range(3):  # Retry up to 3 times\n",
        "            try:\n",
        "                result = func(*args, **kwargs)\n",
        "                return result\n",
        "            except Exception as e:\n",
        "                print(\"Retrying due to error:\", e)\n",
        "        print(\"Failed after 3 retries.\")\n",
        "        return None\n",
        "    return wrapper\n",
        "\n",
        "@retry_decorator\n",
        "def get_weather_with_retry(weather_app, city):\n",
        "    return weather_app.get_weather(city)\n",
        "\n",
        "def main():\n",
        "    cities = [\"Mumbai\", \"Delhi\", \"Chennai\"]\n",
        "\n",
        "    # Retrieve weather data for cities and save to file using multithreading\n",
        "    threads = []\n",
        "    for city in cities:\n",
        "        weather_app = WeatherApp()\n",
        "        thread = threading.Thread(target=save_to_file, args=(get_weather_with_retry(weather_app, city),))\n",
        "        thread.start()\n",
        "        threads.append(thread)\n",
        "\n",
        "    for thread in threads:\n",
        "        thread.join()\n",
        "\n",
        "    # Load weather data from file and print\n",
        "    print(\"Weather data from file:\")\n",
        "    for weather_data in load_from_file():\n",
        "        print(weather_data)\n",
        "\n",
        "if __name__ == \"__main__\":\n",
        "    main()"
      ]
    },
    {
      "cell_type": "code",
      "source": [],
      "metadata": {
        "id": "6hvkXGAhX6GN"
      },
      "execution_count": null,
      "outputs": []
    }
  ]
}